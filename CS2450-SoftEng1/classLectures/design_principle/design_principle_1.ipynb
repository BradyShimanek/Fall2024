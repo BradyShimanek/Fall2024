{
 "cells": [
  {
   "cell_type": "markdown",
   "metadata": {},
   "source": [
    "# Software Design Principles"
   ]
  },
  {
   "cell_type": "markdown",
   "metadata": {
    "vscode": {
     "languageId": "plaintext"
    }
   },
   "source": [
    "### Why Design Principles Matter in Software Engineering\n",
    "\n",
    "Software design principles are guidelines that help developers create software that is easy to understand, maintain, and extend.\n",
    "\n",
    "  - **Scalability**: Well-designed software can be easily extended to handle growth (e.g., more users, more features) without major rework.\n",
    "  - **Maintainability**: Code following design principles is easier to fix, modify, and enhance.\n",
    "  - **Reusability**: Encourages the creation of components or modules that can be reused in different parts of the application or even in different projects.\n",
    "  - **Collaboration**: Clear and structured code facilitates better teamwork, making it easier for multiple developers to work on the same codebase without conflicts."
   ]
  },
  {
   "cell_type": "markdown",
   "metadata": {},
   "source": [
    "### Good Design vs. Bad Design\n",
    "\n",
    "| **Aspect**                     | **Good Design** 🌟                                                                 | **Bad Design** ⚠️                                                           |\n",
    "|--------------------------------|------------------------------------------------------------------------------------|-----------------------------------------------------------------------------|\n",
    "| 🧩 **Modular Code**               | Organized into separate, independent modules or components.                      | Code is intertwined and dependent, making it hard to manage.            |\n",
    "| 📈 **Scalability**                | Easily extended to handle growth without major rework.                            | Struggles to handle increased load or complexity.                        |\n",
    "| 🔧 **Maintainability**            | Easy to fix, modify, and enhance.                                                | Small changes require significant effort.                                |\n",
    "| 🔄 **Reusability**                | Components can be reused across different parts or projects.                     | Components are not easily reused, leading to duplication.                |\n",
    "| 👥 **Collaboration**              | Facilitates teamwork with clear and structured code.                            | Poorly structured code hinders teamwork.                                 |\n",
    "| 💰 **Technical Debt**             | Minimal technical debt due to proper design.                                     | Accumulates due to shortcuts in design.                                  |\n",
    "| 📄 **Clear Documentation**        | Well-documented code and design decisions.                                      | Lack of documentation makes understanding difficult.                     |\n",
    "| 🌀 **Consistent Coding Standards**| Adheres to established coding guidelines.                                       | No adherence to coding standards, leading to confusion.                  |\n",
    "| ⚡ **Efficient Performance**      | Optimized for speed and resource usage.                                          | Code runs slowly and consumes excessive resources.                       |\n",
    "| 🛡️ **Robust Error Handling**      | Anticipates and gracefully handles potential errors.                            | Fails to manage errors effectively, leading to crashes.                  |\n"
   ]
  },
  {
   "cell_type": "markdown",
   "metadata": {},
   "source": [
    "### Consequences of Poor Design\n",
    "- **High Maintenance Costs**: When software is poorly designed, small changes can require significant effort. This leads to high maintenance costs over time.\n",
    "  - **Example**: Adding a new feature might require modifying multiple parts of the codebase due to tight coupling and lack of modularity.\n",
    "- **Low Scalability**: Poorly designed software often cannot handle increasing loads or complexity without a complete overhaul.\n",
    "  - **Example**: A monolithic application with no clear separation of concerns struggles to scale horizontally (e.g., by distributing workloads across multiple servers).\n",
    "- **Technical Debt**: Shortcuts in design can lead to \"technical debt,\" which accumulates over time, making future development slower and more expensive.\n",
    "  - **Example**: Over time, a lack of proper design can result in a \"big ball of mud\" architecture—where the system becomes tangled and difficult to manage or refactor."
   ]
  },
  {
   "cell_type": "markdown",
   "metadata": {},
   "source": [
    "---"
   ]
  },
  {
   "cell_type": "markdown",
   "metadata": {},
   "source": [
    "# Fundamental Design Principles"
   ]
  },
  {
   "cell_type": "markdown",
   "metadata": {},
   "source": [
    "- Design principles guide developers in creating software that is maintainable, scalable, and robust. They serve as best practices to avoid common pitfalls in software design.\n",
    "- Understanding these principles helps in writing clean code, facilitating collaboration, and reducing technical debt."
   ]
  },
  {
   "cell_type": "markdown",
   "metadata": {},
   "source": [
    "## S.O.L.I.D. Principles\n",
    "\n",
    "The SOLID principles are a set of five guidelines intended to make software designs more understandable, flexible, and maintainable."
   ]
  },
  {
   "cell_type": "markdown",
   "metadata": {},
   "source": [
    "### **S**ingle Responsibility Principle (SRP)\n",
    "  - > **A class should have one, and only one, reason to change. This means that a class should have only one job or responsibility.**\n",
    "  - Think of a **Swiss Army knife**. While it has multiple tools, each tool serves a single purpose. If one tool breaks, it doesn't affect the others.\n",
    "\n",
    "<img src=\"./img/single_responsibility.webp\" alt=\"Single Responsibility Principle\" width=\"500\"/>"
   ]
  },
  {
   "cell_type": "code",
   "execution_count": 1,
   "metadata": {},
   "outputs": [],
   "source": [
    "# Violating SRP\n",
    "class Employee:\n",
    "    def calculate_pay(self):\n",
    "        pass\n",
    "    \n",
    "    def save_employee(self):\n",
    "        pass\n",
    "    \n",
    "    def generate_report(self):\n",
    "        pass\n",
    "\n",
    "# Following SRP\n",
    "class PaymentCalculator:\n",
    "    def calculate_pay(self, employee):\n",
    "        pass\n",
    "\n",
    "class EmployeeRepository:\n",
    "    def save_employee(self, employee):\n",
    "        pass\n",
    "\n",
    "class ReportGenerator:\n",
    "    def generate_report(self, employee):\n",
    "        pass"
   ]
  },
  {
   "cell_type": "markdown",
   "metadata": {},
   "source": [
    "###  **O**pen/Closed Principle (OCP)\n",
    "  - > **Software entities (classes, modules, functions, etc.) should be open for extension but closed for modification.**\n",
    "  - Think of a **gaming console** like a PlayStation or Xbox. The console itself doesn't change when new games are released; it's designed to accept new games without modification. Game developers can create new games (extensions) that work with the console without needing to alter the console's hardware (existing code). \n",
    "\n",
    "  <img src=\"./img/open_closed.webp\" alt=\"Open/Closed Principle\" width=\"500\"/>"
   ]
  },
  {
   "cell_type": "code",
   "execution_count": 2,
   "metadata": {},
   "outputs": [],
   "source": [
    "# Violating OCP\n",
    "class Shape:\n",
    "    def draw(self):\n",
    "        pass\n",
    "\n",
    "class GraphicEditor:\n",
    "    def draw_shape(self, shape):\n",
    "        if isinstance(shape, Circle):\n",
    "            # Draw circle\n",
    "            pass\n",
    "        elif isinstance(shape, Rectangle):\n",
    "            # Draw rectangle\n",
    "            pass\n",
    "\n",
    "# Following OCP\n",
    "class Shape:\n",
    "    def draw(self):\n",
    "        pass\n",
    "\n",
    "class Circle(Shape):\n",
    "    def draw(self):\n",
    "        # Draw circle\n",
    "        pass\n",
    "\n",
    "class Rectangle(Shape):\n",
    "    def draw(self):\n",
    "        # Draw rectangle\n",
    "        pass\n",
    "\n",
    "class GraphicEditor:\n",
    "    def draw_shape(self, shape):\n",
    "        shape.draw()\n"
   ]
  },
  {
   "cell_type": "markdown",
   "metadata": {},
   "source": [
    "### **L**iskov Substitution Principle (LSP):\n",
    "  - > **Objects of a superclass should be replaceable with objects of its subclasses without breaking the application.**\n",
    "  - If you have a function that works with a bird, it should work with any kind of bird, like a sparrow or a penguin, without altering the correctness of the program.\n",
    "\n",
    "<img src=\"./img/liskov.webp\" alt=\"Liskov Substitution Principle\" width=\"500\"/>"
   ]
  },
  {
   "cell_type": "code",
   "execution_count": 3,
   "metadata": {},
   "outputs": [],
   "source": [
    "class Bird:\n",
    "    def fly(self):\n",
    "        pass\n",
    "\n",
    "class Sparrow(Bird):\n",
    "    def fly(self):\n",
    "        print(\"Sparrow flies\")\n",
    "\n",
    "class Ostrich(Bird):\n",
    "    # Violates LSP, as Ostrich can't fly\n",
    "    def fly(self):\n",
    "        raise NotImplementedError(\"Ostriches can't fly\")"
   ]
  },
  {
   "cell_type": "markdown",
   "metadata": {},
   "source": [
    "### **I**nterface Segregation Principle (ISP):\n",
    "  - Clients should not be forced to depend on methods they do not use. Split large interfaces into smaller, more specific ones.\n",
    "  - A restaurant menu with separate sections for appetizers, main courses, and desserts allows customers to choose what they want without being overwhelmed.\n",
    "\n",
    "<img src= \"./img/interface_segregation.webp\" alt=\"Interface Segregation Principle\" width=\"500\"/>"
   ]
  },
  {
   "cell_type": "code",
   "execution_count": 4,
   "metadata": {},
   "outputs": [],
   "source": [
    "# Violating ISP\n",
    "class Printer:\n",
    "    def print(self):\n",
    "        pass\n",
    "    \n",
    "    def scan(self):\n",
    "        pass\n",
    "    \n",
    "    def fax(self):\n",
    "        pass\n",
    "\n",
    "class OldPrinter(Printer):\n",
    "    def print(self):\n",
    "        pass\n",
    "\n",
    "    def scan(self):\n",
    "        raise NotImplementedError\n",
    "\n",
    "    def fax(self):\n",
    "        raise NotImplementedError\n",
    "\n",
    "# Following ISP\n",
    "class IPrinter:\n",
    "    def print(self):\n",
    "        pass\n",
    "\n",
    "class IScanner:\n",
    "    def scan(self):\n",
    "        pass\n",
    "\n",
    "class IFax:\n",
    "    def fax(self):\n",
    "        pass\n",
    "\n",
    "class Printer(IPrinter):\n",
    "    def print(self):\n",
    "        pass\n",
    "\n",
    "class MultiFunctionPrinter(IPrinter, IScanner, IFax):\n",
    "    def print(self):\n",
    "        pass\n",
    "\n",
    "    def scan(self):\n",
    "        pass\n",
    "\n",
    "    def fax(self):\n",
    "        pass\n"
   ]
  },
  {
   "cell_type": "markdown",
   "metadata": {},
   "source": [
    "### **D**ependency Inversion Principle (DIP):\n",
    "  - High-level modules should not depend on low-level modules; both should depend on abstractions.\n",
    "  - An electric socket doesn't care what device is plugged into it; both the socket and the devices conform to the standard plug interface.\n",
    "\n",
    "<img src=\"./img/dependency_inversion.webp\" alt=\"Dependency Inversion Principle\" width=\"500\"/>"
   ]
  },
  {
   "cell_type": "code",
   "execution_count": 5,
   "metadata": {},
   "outputs": [],
   "source": [
    "# Violating DIP\n",
    "class MySQLConnection:\n",
    "    def connect(self):\n",
    "        pass\n",
    "\n",
    "class PasswordReminder:\n",
    "    def __init__(self):\n",
    "        self.db_connection = MySQLConnection()\n",
    "\n",
    "# Following DIP\n",
    "class DBConnectionInterface:\n",
    "    def connect(self):\n",
    "        pass\n",
    "\n",
    "class MySQLConnection(DBConnectionInterface):\n",
    "    def connect(self):\n",
    "        pass\n",
    "\n",
    "class PasswordReminder:\n",
    "    def __init__(self, db_connection: DBConnectionInterface):\n",
    "        self.db_connection = db_connection\n"
   ]
  },
  {
   "cell_type": "markdown",
   "metadata": {},
   "source": [
    "### DRY (Don't Repeat Yourself)\n",
    "- Avoid duplication of code; every piece of knowledge should have a single, unambiguous representation.\n",
    "- Suppose you're a chef preparing multiple dishes that require **chopped onions**. Instead of chopping onions separately for each dish, you chop a large batch once and use it wherever needed. "
   ]
  },
  {
   "cell_type": "code",
   "execution_count": 6,
   "metadata": {},
   "outputs": [],
   "source": [
    "# Violating DRY\n",
    "def get_area_of_rectangle(length, width):\n",
    "    return length * width\n",
    "\n",
    "def get_area_of_square(side):\n",
    "    return side * side\n",
    "\n",
    "# Following DRY\n",
    "def get_area(shape):\n",
    "    return shape.area()\n",
    "\n",
    "class Rectangle:\n",
    "    def __init__(self, length, width):\n",
    "        self.length = length\n",
    "        self.width = width\n",
    "\n",
    "    def area(self):\n",
    "        return self.length * self.width\n",
    "\n",
    "class Square(Rectangle):\n",
    "    def __init__(self, side):\n",
    "        super().__init__(side, side)"
   ]
  },
  {
   "cell_type": "markdown",
   "metadata": {},
   "source": [
    "### KISS (Keep It Simple, Stupid)\n",
    "- Simpler solutions are more effective and less error-prone."
   ]
  },
  {
   "cell_type": "code",
   "execution_count": 7,
   "metadata": {},
   "outputs": [],
   "source": [
    "# Overcomplicated\n",
    "def add_numbers(a, b):\n",
    "    result = 0\n",
    "    for i in range(a):\n",
    "        result += 1\n",
    "    for i in range(b):\n",
    "        result += 1\n",
    "    return result\n",
    "\n",
    "# Simple and KISS compliant\n",
    "def add_numbers(a, b):\n",
    "    return a + b"
   ]
  },
  {
   "cell_type": "markdown",
   "metadata": {},
   "source": [
    "### YAGNI (You Aren't Gonna Need It)\n",
    "- Do not add functionality until it's necessary."
   ]
  },
  {
   "cell_type": "code",
   "execution_count": 8,
   "metadata": {},
   "outputs": [],
   "source": [
    "# Violating YAGNI\n",
    "class User:\n",
    "    def __init__(self):\n",
    "        self.name = \"\"\n",
    "        self.age = 0\n",
    "        self.future_feature = None  # Placeholder for future use\n",
    "\n",
    "# Following YAGNI\n",
    "class User:\n",
    "    def __init__(self):\n",
    "        self.name = \"\"\n",
    "        self.age = 0\n"
   ]
  },
  {
   "cell_type": "markdown",
   "metadata": {},
   "source": [
    "---"
   ]
  },
  {
   "cell_type": "markdown",
   "metadata": {},
   "source": [
    "# UML Diagrams"
   ]
  },
  {
   "cell_type": "markdown",
   "metadata": {},
   "source": [
    "- UML is a standardized visual language used to model the structure and behavior of software systems.\n",
    "- **Purpose**:\n",
    "  - **Visualization**: Helps in understanding the system architecture at a glance.\n",
    "  - **Specification**: Clearly defines the system components and their interactions.\n",
    "  - **Documentation**: Provides a blueprint for software design, making it easier to maintain and extend.\n",
    "- **Analogy**:\n",
    "  - UML diagrams are like **blueprints for a building**—architects use blueprints to visualize the structure before construction; similarly, UML diagrams help developers visualize software before implementation."
   ]
  },
  {
   "cell_type": "markdown",
   "metadata": {},
   "source": [
    "## Common UML Diagrams\n",
    "\n",
    "<img src=\"./img/uml_diagram.jpg\" alt=\"UML Diagrams\" width=\"800\"/> \n",
    "\n",
    "\n",
    "- **Class Diagram**:\n",
    "  - **Definition**: Shows the static structure of the system, including classes, attributes, methods, and relationships.\n",
    "  - **Analogy**: Think of it as an **organizational chart** that outlines roles (classes) and their interactions.\n",
    "  - **Visual Aid**: Simple class diagram showing classes like `User`, `Order`, and `Product` with relationships.\n",
    "- **Sequence Diagram**:\n",
    "  - **Definition**: Illustrates how objects interact in a particular sequence to carry out a process.\n",
    "  - **Analogy**: Like a **play script**, showing the order of interactions between actors (objects).\n",
    "  - **Visual Aid**: Basic sequence diagram depicting a user logging into a system.\n",
    "- **State Diagram**:\n",
    "  - **Definition**: Depicts the states of an object and transitions between these states.\n",
    "  - **Analogy**: **Flowchart** of a process, such as the states of a traffic light (green, yellow, red).\n",
    "  - **Visual Aid**: State diagram showing the states of a turnstile (locked, unlocked).\n",
    "- **Activity Diagram**:\n",
    "  - **Definition**: Represents workflows of stepwise activities and actions.\n",
    "  - **Analogy**: Similar to a **task list** showing the flow of activities in a process.\n",
    "  - **Visual Aid**: Activity diagram of a user registration process.\n",
    "- **Use Case Diagram**:\n",
    "  - **Definition**: Shows the interactions between actors (users or systems) and the system.\n",
    "  - **Analogy**: A **relationship map** of who can do what in a system (e.g., a user can log in, a manager can view reports).\n",
    "  - **Visual Aid**: Simple use case diagram for an e-commerce system (actors: Customer, Admin; use cases: Browse Products, Manage Inventory)."
   ]
  },
  {
   "cell_type": "markdown",
   "metadata": {},
   "source": [
    "---"
   ]
  },
  {
   "cell_type": "markdown",
   "metadata": {},
   "source": [
    "# Class Diagram\n",
    "\n",
    "<img src=\"./img/class_diagram_intro.png\" alt=\"Class Diagram\" width=\"300\"/>\n",
    "\n",
    "- **Classes**: Blueprint of objects in the system.\n",
    "  \n",
    "- **Attributes**: Variables that hold data specific to the class.\n",
    "\n",
    "- **Methods**: Functions that define the behavior of the class.\n",
    "\n",
    "<img src=\"./img/class_diagram_notation.webp\" alt=\"Relationship Notation\" width=\"500\"/>"
   ]
  },
  {
   "cell_type": "markdown",
   "metadata": {},
   "source": [
    "#### Class with signature\n",
    "<img src=\"./img/class_diagram_with_without_signature.webp\" alt=\"Class with signature\" width=\"500\"/>\n",
    "\n",
    "#### Class with parameter dictionary\n",
    "<img src=\"./img/class_diagram_parameter_dict.jpg\" alt=\"Class with signature\" width=\"500\"/>"
   ]
  },
  {
   "cell_type": "markdown",
   "metadata": {},
   "source": [
    "#### 🔒 Visibility Modifiers\n",
    "\n",
    "#### **Definition:**\n",
    "- **Public (+):** Accessible from anywhere.\n",
    "- **Private (-):** Accessible only within the class.\n",
    "- **Protected (#):** Accessible within the class and its subclasses."
   ]
  },
  {
   "cell_type": "code",
   "execution_count": 9,
   "metadata": {},
   "outputs": [
    {
     "name": "stdout",
     "output_type": "stream",
     "text": [
      "Alice\n",
      "30\n"
     ]
    }
   ],
   "source": [
    "class Person:\n",
    "    def __init__(self, name, age):\n",
    "        self.name = name        # Public\n",
    "        self._age = age         # Protected\n",
    "        self.__ssn = \"123-45-6789\"  # Private\n",
    "\n",
    "    def get_age(self):\n",
    "        return self._age\n",
    "\n",
    "# Example Usage\n",
    "p = Person(\"Alice\", 30)\n",
    "print(p.name)    # Accessible\n",
    "print(p._age)    # Accessible but not recommended\n",
    "# print(p.__ssn) # Raises AttributeError"
   ]
  },
  {
   "cell_type": "markdown",
   "metadata": {},
   "source": [
    "#### 🦸 **Abstract Classes and Interfaces**\n",
    "\n",
    "#### Abstract Classes\n",
    "  - Cannot be instantiated.\n",
    "  - Can contain both implemented methods and abstract methods (methods without implementation)."
   ]
  },
  {
   "cell_type": "code",
   "execution_count": 10,
   "metadata": {},
   "outputs": [
    {
     "name": "stdout",
     "output_type": "stream",
     "text": [
      "Woof!\n"
     ]
    }
   ],
   "source": [
    "from abc import ABC, abstractmethod\n",
    "\n",
    "class Animal(ABC):\n",
    "    @abstractmethod\n",
    "    def speak(self):\n",
    "        pass\n",
    "\n",
    "class Dog(Animal):\n",
    "    def speak(self):\n",
    "        print(\"Woof!\")\n",
    "\n",
    "# Example Usage\n",
    "# animal = Animal()  # Raises TypeError\n",
    "dog = Dog()\n",
    "dog.speak()  # Output: Woof!"
   ]
  },
  {
   "cell_type": "markdown",
   "metadata": {},
   "source": [
    "#### Interfaces\n",
    "  - Define a contract that implementing classes must follow.\n",
    "  - In Python, interfaces can be mimicked using abstract base classes."
   ]
  },
  {
   "cell_type": "code",
   "execution_count": 11,
   "metadata": {},
   "outputs": [
    {
     "name": "stdout",
     "output_type": "stream",
     "text": [
      "Bird is flying.\n"
     ]
    }
   ],
   "source": [
    "from abc import ABC, abstractmethod\n",
    "\n",
    "class Flyable(ABC):\n",
    "    @abstractmethod\n",
    "    def fly(self):\n",
    "        pass\n",
    "\n",
    "class Bird(Flyable):\n",
    "    def fly(self):\n",
    "        print(\"Bird is flying.\")\n",
    "\n",
    "# Example Usage\n",
    "bird = Bird()\n",
    "bird.fly()  # Output: Bird is flying."
   ]
  },
  {
   "cell_type": "markdown",
   "metadata": {},
   "source": [
    "### 🔄 **Dependencies and Realizations**\n",
    "\n",
    "#### Dependency\n",
    "  - A relationship where one class depends on another because it uses it."
   ]
  },
  {
   "cell_type": "code",
   "execution_count": 12,
   "metadata": {},
   "outputs": [
    {
     "name": "stdout",
     "output_type": "stream",
     "text": [
      "Printing: Annual Report\n"
     ]
    }
   ],
   "source": [
    "class Printer:\n",
    "    def print_document(self, document):\n",
    "        print(f\"Printing: {document}\")\n",
    "\n",
    "class Office:\n",
    "    def __init__(self, printer):\n",
    "        self.printer = printer\n",
    "\n",
    "    def create_report(self):\n",
    "        report = \"Annual Report\"\n",
    "        self.printer.print_document(report)\n",
    "\n",
    "# Example Usage\n",
    "printer = Printer()\n",
    "office = Office(printer)\n",
    "office.create_report()"
   ]
  },
  {
   "cell_type": "markdown",
   "metadata": {},
   "source": [
    "#### Realization\n",
    "  - A relationship between an interface and the class that implements it."
   ]
  },
  {
   "cell_type": "code",
   "execution_count": 13,
   "metadata": {},
   "outputs": [
    {
     "name": "stdout",
     "output_type": "stream",
     "text": [
      "Processing $100 through PayPal.\n"
     ]
    }
   ],
   "source": [
    "from abc import ABC, abstractmethod\n",
    "\n",
    "class PaymentProcessor(ABC):\n",
    "    @abstractmethod\n",
    "    def process_payment(self, amount):\n",
    "        pass\n",
    "\n",
    "class PayPalProcessor(PaymentProcessor):\n",
    "    def process_payment(self, amount):\n",
    "        print(f\"Processing ${amount} through PayPal.\")\n",
    "\n",
    "# Example Usage\n",
    "processor = PayPalProcessor()\n",
    "processor.process_payment(100)"
   ]
  },
  {
   "cell_type": "markdown",
   "metadata": {},
   "source": [
    "### 📜 Enumerations (Enums)\n",
    "  - Define a set of named constants."
   ]
  },
  {
   "cell_type": "code",
   "execution_count": 14,
   "metadata": {},
   "outputs": [
    {
     "name": "stdout",
     "output_type": "stream",
     "text": [
      "Status.ACTIVE\n"
     ]
    }
   ],
   "source": [
    "from enum import Enum\n",
    "\n",
    "class Status(Enum):\n",
    "    ACTIVE = 1\n",
    "    INACTIVE = 2\n",
    "    PENDING = 3\n",
    "\n",
    "class User:\n",
    "    def __init__(self, name, status: Status):\n",
    "        self.name = name\n",
    "        self.status = status\n",
    "\n",
    "# Example Usage\n",
    "user = User(\"Bob\", Status.ACTIVE)\n",
    "print(user.status)  # Output: Status.ACTIVE\n"
   ]
  },
  {
   "cell_type": "markdown",
   "metadata": {},
   "source": [
    "## Class Relationships\n",
    "\n",
    "Understanding how classes interact is crucial. Let's explore different types of relationships with fun analogies and Python examples!"
   ]
  },
  {
   "cell_type": "markdown",
   "metadata": {},
   "source": [
    "### Notation of Relationships\n",
    "<image src=\"./img/class_relationship.webp\" alt=\"Relationship Notation\" width=\"500\"/>"
   ]
  },
  {
   "cell_type": "markdown",
   "metadata": {},
   "source": []
  },
  {
   "cell_type": "markdown",
   "metadata": {},
   "source": [
    "### 🔗 **Association**\n",
    "- **Association** is a **basic relationship** where one class **uses** or **interacts** with another.\n",
    "- It represents a **\"uses-a\"** relationship.\n",
    "  - **Teacher and Student:** A teacher **teaches** students, but both can exist **independently**.\n",
    "\n",
    "<img src=\"./img/association.png\" alt=\"Association\" width=\"200\"/>"
   ]
  },
  {
   "cell_type": "code",
   "execution_count": 15,
   "metadata": {},
   "outputs": [
    {
     "name": "stdout",
     "output_type": "stream",
     "text": [
      "Ms. Smith is teaching.\n",
      "John Doe is learning from Ms. Smith.\n",
      "Jane Doe is learning from Ms. Smith.\n"
     ]
    }
   ],
   "source": [
    "class Teacher:\n",
    "    def __init__(self, name):\n",
    "        self.name = name\n",
    "\n",
    "    def teach(self):\n",
    "        print(f\"{self.name} is teaching.\")\n",
    "\n",
    "class Student:\n",
    "    def __init__(self, name, teacher):\n",
    "        self.name = name\n",
    "        self.teacher = teacher  # Association\n",
    "\n",
    "    def learn(self):\n",
    "        print(f\"{self.name} is learning from {self.teacher.name}.\")\n",
    "\n",
    "# Example Usage\n",
    "teacher = Teacher(\"Ms. Smith\")\n",
    "student1 = Student(\"John Doe\", teacher)\n",
    "student2 = Student(\"Jane Doe\", teacher)\n",
    "\n",
    "teacher.teach()\n",
    "student1.learn()\n",
    "student2.learn()"
   ]
  },
  {
   "cell_type": "markdown",
   "metadata": {},
   "source": [
    "### 🏗️ **Aggregation**\n",
    "\n",
    "- **Aggregation** is a **whole-part** relationship.\n",
    "- The **part** can **exist independently** of the **whole**.\n",
    "- Represents a **\"has-a\"** relationship with **shared ownership**.\n",
    "  - **Car and Engine:** A car **has** an engine, but an engine can exist **separately** from the car.\n",
    "\n",
    "<img src=\"./img/aggregation.png\" alt=\"Aggregation\" width=\"200\"/>"
   ]
  },
  {
   "cell_type": "code",
   "execution_count": 16,
   "metadata": {},
   "outputs": [
    {
     "name": "stdout",
     "output_type": "stream",
     "text": [
      "V8 engine started.\n",
      "Mustang is driving.\n"
     ]
    }
   ],
   "source": [
    "class Engine:\n",
    "    def __init__(self, type):\n",
    "        self.type = type\n",
    "\n",
    "    def start(self):\n",
    "        print(f\"{self.type} engine started.\")\n",
    "\n",
    "class Car:\n",
    "    def __init__(self, model, engine):\n",
    "        self.model = model\n",
    "        self.engine = engine  # Aggregation\n",
    "\n",
    "    def drive(self):\n",
    "        self.engine.start()\n",
    "        print(f\"{self.model} is driving.\")\n",
    "\n",
    "# Example Usage\n",
    "engine = Engine(\"V8\")\n",
    "car = Car(\"Mustang\", engine)\n",
    "car.drive()"
   ]
  },
  {
   "cell_type": "markdown",
   "metadata": {},
   "source": [
    "### 🏠 **Composition**\n",
    "- **Composition** is a **strong \"whole-part\" relationship**.\n",
    "- **Parts cannot exist independently** of the **whole**.\n",
    "- Represents a **\"owns-a\"** relationship with **exclusive ownership**.\n",
    "  - **House and Rooms:** A house **owns** its rooms. If the house is destroyed, the rooms **cannot exist** on their own.\n",
    "  <img src=\"./img/composition.png\" alt=\"Composition\" width=\"200\"/>"
   ]
  },
  {
   "cell_type": "code",
   "execution_count": 17,
   "metadata": {},
   "outputs": [
    {
     "name": "stdout",
     "output_type": "stream",
     "text": [
      "Added Living Room to the house at 123 Maple Street.\n",
      "Added Bedroom to the house at 123 Maple Street.\n",
      "House at 123 Maple Street has the following rooms:\n",
      "This is the Living Room.\n",
      "This is the Bedroom.\n"
     ]
    }
   ],
   "source": [
    "class Room:\n",
    "    def __init__(self, name):\n",
    "        self.name = name\n",
    "\n",
    "    def describe(self):\n",
    "        print(f\"This is the {self.name}.\")\n",
    "\n",
    "class House:\n",
    "    def __init__(self, address):\n",
    "        self.address = address\n",
    "        self.rooms = []  # Composition: Rooms belong to the House\n",
    "\n",
    "    def add_room(self, room):\n",
    "        self.rooms.append(room)\n",
    "        print(f\"Added {room.name} to the house at {self.address}.\")\n",
    "\n",
    "    def list_rooms(self):\n",
    "        print(f\"House at {self.address} has the following rooms:\")\n",
    "        for room in self.rooms:\n",
    "            room.describe()\n",
    "\n",
    "# Example Usage\n",
    "house = House(\"123 Maple Street\")\n",
    "living_room = Room(\"Living Room\")\n",
    "bedroom = Room(\"Bedroom\")\n",
    "\n",
    "house.add_room(living_room)\n",
    "house.add_room(bedroom)\n",
    "house.list_rooms()"
   ]
  },
  {
   "cell_type": "markdown",
   "metadata": {},
   "source": [
    "💡 **Key Points**\n",
    "  - **Exclusive Ownership:** `Room` instances **cannot exist** without a `House`.\n",
    "  - **Lifecycle Dependency:** Destroying the `House` **destroys** its `Rooms`."
   ]
  },
  {
   "cell_type": "markdown",
   "metadata": {},
   "source": [
    "### 🐕 **Inheritance**\n",
    "\n",
    "- **Inheritance** is an **\"is-a\" relationship**.\n",
    "- A **subclass** inherits attributes and methods from a **superclass**.\n",
    "- Promotes **code reusability** and **polymorphism**.\n",
    "  - **Dog and Animal:** A **Dog** **is an** **Animal**. It inherits characteristics from the **Animal** class."
   ]
  },
  {
   "cell_type": "code",
   "execution_count": 18,
   "metadata": {},
   "outputs": [
    {
     "name": "stdout",
     "output_type": "stream",
     "text": [
      "Animal speaks.\n",
      "Buddy says: Woof!\n",
      "Buddy is fetching the ball.\n"
     ]
    }
   ],
   "source": [
    "class Animal:\n",
    "    def __init__(self, name):\n",
    "        self.name = name\n",
    "\n",
    "    def speak(self):\n",
    "        print(\"Animal speaks.\")\n",
    "\n",
    "class Dog(Animal):  # Inheritance\n",
    "    def __init__(self, name, breed):\n",
    "        super().__init__(name)\n",
    "        self.breed = breed\n",
    "\n",
    "    def speak(self):\n",
    "        print(f\"{self.name} says: Woof!\")\n",
    "\n",
    "    def fetch(self):\n",
    "        print(f\"{self.name} is fetching the ball.\")\n",
    "\n",
    "# Example Usage\n",
    "animal = Animal(\"Generic Animal\")\n",
    "dog = Dog(\"Buddy\", \"Golden Retriever\")\n",
    "\n",
    "animal.speak()  # Output: Animal speaks.\n",
    "dog.speak()     # Output: Buddy says: Woof!\n",
    "dog.fetch()     # Output: Buddy is fetching the ball."
   ]
  },
  {
   "cell_type": "markdown",
   "metadata": {},
   "source": [
    "💡 **Key Points**\n",
    "- **\"Is-a\" Relationship:** `Dog` **is an** `Animal`.\n",
    "- **Method Overriding:** Subclasses can **override** superclass methods.\n",
    "- **Polymorphism:** Enables treating subclasses as instances of their superclass."
   ]
  },
  {
   "cell_type": "markdown",
   "metadata": {},
   "source": [
    "### 🔢 **Multiplicity**\n",
    "- **Multiplicity** defines the **number of instances** that can be associated between classes.\n",
    "- Specifies **how many objects** of one class can be linked to **objects** of another class.\n",
    "  - **Library and Books:** A **Library** can have **multiple Books** (1-to-many relationship).\n",
    "  - **Student and Courses:** A **Student** can enroll in **multiple Courses**, and a **Course** can have **multiple Students** (many-to-many relationship)."
   ]
  },
  {
   "cell_type": "code",
   "execution_count": 19,
   "metadata": {},
   "outputs": [
    {
     "name": "stdout",
     "output_type": "stream",
     "text": [
      "Added '1984' to the library 'Central Library'.\n",
      "Added 'To Kill a Mockingbird' to the library 'Central Library'.\n",
      "Library 'Central Library' has the following books:\n",
      "- 1984\n",
      "- To Kill a Mockingbird\n"
     ]
    }
   ],
   "source": [
    "class Book:\n",
    "    def __init__(self, title):\n",
    "        self.title = title\n",
    "\n",
    "class Library:\n",
    "    def __init__(self, name):\n",
    "        self.name = name\n",
    "        self.books = []  # 1..* Multiplicity\n",
    "\n",
    "    def add_book(self, book):\n",
    "        self.books.append(book)\n",
    "        print(f\"Added '{book.title}' to the library '{self.name}'.\")\n",
    "\n",
    "    def list_books(self):\n",
    "        print(f\"Library '{self.name}' has the following books:\")\n",
    "        for book in self.books:\n",
    "            print(f\"- {book.title}\")\n",
    "\n",
    "# Example Usage\n",
    "library = Library(\"Central Library\")\n",
    "book1 = Book(\"1984\")\n",
    "book2 = Book(\"To Kill a Mockingbird\")\n",
    "\n",
    "library.add_book(book1)\n",
    "library.add_book(book2)\n",
    "library.list_books()"
   ]
  },
  {
   "cell_type": "markdown",
   "metadata": {},
   "source": [
    "💡 **Key Points**\n",
    "- **1..***: One to many relationship.\n",
    "- **0..1**: Optional relationship.\n",
    "- **1..1**: Exactly one.\n",
    "- **Many-to-Many:** Requires an intermediary class or association."
   ]
  },
  {
   "cell_type": "markdown",
   "metadata": {},
   "source": [
    "### 🔄 **Dependency**\n",
    "\n",
    "- **Dependency** is a **\"uses\" relationship** where one class **depends** on another.\n",
    "- Indicates that **changes** in one class may **affect** the other.\n",
    "- Represents a **\"knows about\"** relationship.\n",
    "  - **Printer and Document:** An **Office** depends on a **Printer** to print **Documents**. If the Printer"
   ]
  },
  {
   "cell_type": "code",
   "execution_count": 20,
   "metadata": {},
   "outputs": [
    {
     "name": "stdout",
     "output_type": "stream",
     "text": [
      "Main Office is sending document to printer.\n",
      "Printer HP LaserJet is printing: Annual Report 2024\n"
     ]
    }
   ],
   "source": [
    "class Document:\n",
    "    def __init__(self, content):\n",
    "        self.content = content\n",
    "\n",
    "class Printer:\n",
    "    def __init__(self, model):\n",
    "        self.model = model\n",
    "\n",
    "    def print_document(self, doc: Document):\n",
    "        print(f\"Printer {self.model} is printing: {doc.content}\")\n",
    "\n",
    "class Office:\n",
    "    def __init__(self, name, printer: Printer):\n",
    "        self.name = name\n",
    "        self.printer = printer  # Dependency\n",
    "\n",
    "    def print_document(self, doc: Document):\n",
    "        print(f\"{self.name} is sending document to printer.\")\n",
    "        self.printer.print_document(doc)\n",
    "\n",
    "# Example Usage\n",
    "printer = Printer(\"HP LaserJet\")\n",
    "office = Office(\"Main Office\", printer)\n",
    "document = Document(\"Annual Report 2024\")\n",
    "\n",
    "office.print_document(document)"
   ]
  },
  {
   "cell_type": "markdown",
   "metadata": {},
   "source": [
    "💡 **Key Points**\n",
    "  - **Loose Coupling:** Dependency indicates a weaker relationship compared to association.\n",
    "  - **Impact of Changes:** Changes in the depended-upon class can affect the dependent class."
   ]
  },
  {
   "cell_type": "markdown",
   "metadata": {},
   "source": [
    "### 🤝 **Realization**\n",
    "\n",
    "- **Realization** is a relationship between an **interface** and the **class** that **implements** it.\n",
    "- Defines a **contract** that the implementing class must fulfill.\n",
    "- Uses a **dashed line with a hollow triangle** pointing to the interface.\n",
    "  - **Payment Processor Interface and PayPal Processor:** The **PaymentProcessor** interface defines methods that the **PayPalProcessor** class must implement."
   ]
  },
  {
   "cell_type": "code",
   "execution_count": 21,
   "metadata": {},
   "outputs": [
    {
     "name": "stdout",
     "output_type": "stream",
     "text": [
      "Processing payment of $150.0 through PayPal.\n",
      "Processing payment of $200.0 through Stripe.\n"
     ]
    }
   ],
   "source": [
    "from abc import ABC, abstractmethod\n",
    "\n",
    "class PaymentProcessor(ABC):\n",
    "    @abstractmethod\n",
    "    def process_payment(self, amount: float):\n",
    "        pass\n",
    "\n",
    "class PayPalProcessor(PaymentProcessor):\n",
    "    def process_payment(self, amount: float):\n",
    "        print(f\"Processing payment of ${amount} through PayPal.\")\n",
    "\n",
    "class StripeProcessor(PaymentProcessor):\n",
    "    def process_payment(self, amount: float):\n",
    "        print(f\"Processing payment of ${amount} through Stripe.\")\n",
    "\n",
    "# Example Usage\n",
    "paypal = PayPalProcessor()\n",
    "stripe = StripeProcessor()\n",
    "\n",
    "paypal.process_payment(150.00)  # Output: Processing payment of $150.0 through PayPal.\n",
    "stripe.process_payment(200.00)  # Output: Processing payment of $200.0 through Stripe."
   ]
  },
  {
   "cell_type": "markdown",
   "metadata": {},
   "source": [
    "💡 **Key Points**\n",
    "  - **Contract Enforcement:** Implementing classes **must** define the interface's methods.\n",
    "  - **Polymorphism:** Allows different implementations to be used interchangeably."
   ]
  },
  {
   "cell_type": "code",
   "execution_count": null,
   "metadata": {},
   "outputs": [],
   "source": []
  },
  {
   "cell_type": "code",
   "execution_count": null,
   "metadata": {},
   "outputs": [],
   "source": []
  },
  {
   "cell_type": "code",
   "execution_count": null,
   "metadata": {},
   "outputs": [],
   "source": []
  },
  {
   "cell_type": "markdown",
   "metadata": {},
   "source": [
    "# 🧩 **Design Principles: Cohesion and Coupling**\n",
    "- **Cohesion:** Measures how closely related and focused the responsibilities of a single module are.\n",
    "- **Coupling:** Measures the degree of interdependence between different modules.\n",
    "\n",
    "> #### Achieving **high cohesion** and **low coupling** is essential for building modular and maintainable software."
   ]
  },
  {
   "cell_type": "markdown",
   "metadata": {},
   "source": [
    "## 🧩 Cohesion\n",
    "\n",
    "- **Cohesion** refers to the **degree of relatedness** between the functionalities within a single module or class.\n",
    "- **High Cohesion:** The module has **well-related** responsibilities, making it **easier to maintain** and **reuse**.\n",
    "- **Low Cohesion:** The module has **unrelated** responsibilities, leading to **complexity** and **fragility**.\n",
    "\n",
    "### Types of Cohesion\n",
    "1. **Functional Cohesion:** All elements contribute to a single, well-defined task.\n",
    "2. **Sequential Cohesion:** Elements are related by a sequence of steps.\n",
    "3. **Communicational Cohesion:** Elements operate on the same data.\n",
    "4. **Procedural Cohesion:** Elements follow a specific procedure.\n",
    "5. **Temporal Cohesion:** Elements are related by timing (e.g., initialization).\n",
    "6. **Logical Cohesion:** Elements perform similar functions but are not related by task.\n",
    "7. **Coincidental Cohesion:** Elements have no meaningful relationship.\n",
    "\n",
    "> **Note:** **Functional Cohesion** is the most desirable, while **Coincidental Cohesion** is the least desirable.\n"
   ]
  },
  {
   "cell_type": "markdown",
   "metadata": {},
   "source": [
    "#### High Cohesion Example: Dessert Module"
   ]
  },
  {
   "cell_type": "code",
   "execution_count": null,
   "metadata": {},
   "outputs": [],
   "source": [
    "class DessertChef:\n",
    "    def make_cake(self):\n",
    "        print(\"Baking a chocolate cake.\")\n",
    "\n",
    "    def bake_cookie(self):\n",
    "        print(\"Baking oatmeal cookies.\")\n",
    "\n",
    "    def prepare_dessert(self):\n",
    "        self.make_cake()\n",
    "        self.bake_cookie()\n",
    "        print(\"Desserts are ready!\")\n",
    "        \n",
    "# Example Usage\n",
    "chef = DessertChef()\n",
    "chef.prepare_dessert()"
   ]
  },
  {
   "cell_type": "markdown",
   "metadata": {},
   "source": [
    "#### Low Cohesion Example: All-Round Module"
   ]
  },
  {
   "cell_type": "code",
   "execution_count": null,
   "metadata": {},
   "outputs": [],
   "source": [
    "class AllRoundChef:\n",
    "    def make_cake(self):\n",
    "        print(\"Baking a chocolate cake.\")\n",
    "\n",
    "    def bake_cookie(self):\n",
    "        print(\"Baking oatmeal cookies.\")\n",
    "\n",
    "    def grill_steak(self):\n",
    "        print(\"Grilling a steak.\")\n",
    "\n",
    "    def prepare_salad(self):\n",
    "        print(\"Preparing a Caesar salad.\")\n",
    "\n",
    "    def serve_dessert(self):\n",
    "        print(\"Serving desserts.\")\n",
    "\n",
    "    def prepare_meal(self):\n",
    "        self.make_cake()\n",
    "        self.bake_cookie()\n",
    "        self.grill_steak()\n",
    "        self.prepare_salad()\n",
    "        self.serve_dessert()\n",
    "        print(\"Meal is ready!\")\n",
    "        \n",
    "# Example Usage\n",
    "chef = AllRoundChef()\n",
    "chef.prepare_meal()"
   ]
  },
  {
   "cell_type": "markdown",
   "metadata": {},
   "source": [
    "💡 **Key Points**\n",
    "- **High Cohesion:**\n",
    "  - Easier to maintain and understand.\n",
    "  - Promotes **reusability**.\n",
    "  - Enhances **modularity**.\n",
    "- **Low Cohesion:**\n",
    "  - Harder to maintain and understand.\n",
    "  - Leads to **code duplication**.\n",
    "  - Reduces **modularity**."
   ]
  },
  {
   "cell_type": "markdown",
   "metadata": {},
   "source": [
    "## 🔗 Coupling\n",
    "- **Coupling** refers to the **degree of interdependence** between different modules or classes.\n",
    "- **Low Coupling:** Modules operate **independently**, minimizing dependencies.\n",
    "- **High Coupling:** Modules are **tightly interconnected**, leading to **fragility** and **complexity**.\n",
    "\n",
    "### Types of Coupling\n",
    "1. **Content Coupling:** One module directly modifies the content of another.\n",
    "2. **Common Coupling:** Multiple modules share the same global data.\n",
    "3. **Control Coupling:** One module controls the flow of another by passing control flags.\n",
    "4. **Stamp Coupling:** Modules share composite data structures.\n",
    "5. **Data Coupling:** Modules share only necessary data via parameters.\n",
    "6. **Message Coupling:** Modules communicate through message passing (lowest coupling).\n",
    "\n",
    "> **Note:** **Message Coupling** is the most desirable, while **Content Coupling** is the least desirable.\n"
   ]
  },
  {
   "cell_type": "markdown",
   "metadata": {},
   "source": [
    "#### Low Coupling Example: Using a Mail Service"
   ]
  },
  {
   "cell_type": "code",
   "execution_count": null,
   "metadata": {},
   "outputs": [],
   "source": [
    "class MailService:\n",
    "    def send_mail(self, recipient, message):\n",
    "        print(f\"Sending email to {recipient}: {message}\")\n",
    "\n",
    "class UserController:\n",
    "    def __init__(self, mail_service: MailService):\n",
    "        self.mail_service = mail_service  # Dependency Injection\n",
    "\n",
    "    def create_user(self, user_data):\n",
    "        # Logic to create user\n",
    "        print(f\"Creating user: {user_data['name']}\")\n",
    "        # Notify user via email\n",
    "        self.mail_service.send_mail(user_data['email'], \"Welcome!\")\n",
    "        \n",
    "# Example Usage\n",
    "mail_service = MailService()\n",
    "user_controller = UserController(mail_service)\n",
    "user_controller.create_user({\"name\": \"Alice\", \"email\": \"alice@example.com\"})"
   ]
  },
  {
   "cell_type": "markdown",
   "metadata": {},
   "source": [
    "#### **High Coupling Example: Direct Interaction with Database**"
   ]
  },
  {
   "cell_type": "code",
   "execution_count": null,
   "metadata": {},
   "outputs": [],
   "source": [
    "class Database:\n",
    "    def insert_user(self, user_data):\n",
    "        print(f\"Inserting {user_data['name']} into the database.\")\n",
    "\n",
    "    def log_activity(self, activity):\n",
    "        print(f\"Logging activity: {activity}\")\n",
    "\n",
    "class UserController:\n",
    "    def __init__(self):\n",
    "        self.database = Database()  # Direct Dependency\n",
    "\n",
    "    def create_user(self, user_data):\n",
    "        # Logic to create user\n",
    "        self.database.insert_user(user_data)\n",
    "        # Log activity\n",
    "        self.database.log_activity(f\"Created user {user_data['name']}\")\n",
    "        print(f\"User {user_data['name']} created successfully.\")\n",
    "        \n",
    "# Example Usage\n",
    "user_controller = UserController()\n",
    "user_controller.create_user({\"name\": \"Bob\", \"email\": \"bob@example.com\"})"
   ]
  },
  {
   "cell_type": "markdown",
   "metadata": {},
   "source": [
    "💡 **Key Points**\n",
    "- **Low Coupling:**\n",
    "  - Enhances **modularity** and **reusability**.\n",
    "  - Facilitates **easier maintenance** and **scaling**.\n",
    "  - Promotes **flexibility** in changing modules independently.\n",
    "- **High Coupling:**\n",
    "  - Increases **complexity** and **fragility**.\n",
    "  - Makes **maintenance** and **scaling** more challenging.\n",
    "  - Reduces **flexibility** due to interdependencies."
   ]
  },
  {
   "cell_type": "markdown",
   "metadata": {},
   "source": [
    "# References\n",
    "- [Solid Principles](https://medium.com/backticks-tildes/the-s-o-l-i-d-principles-in-pictures-b34ce2f1e898)\n",
    "- [UML Diagram](https://www.geeksforgeeks.org/unified-modeling-language-uml-introduction/)"
   ]
  },
  {
   "cell_type": "markdown",
   "metadata": {},
   "source": []
  }
 ],
 "metadata": {
  "kernelspec": {
   "display_name": "common",
   "language": "python",
   "name": "python3"
  },
  "language_info": {
   "codemirror_mode": {
    "name": "ipython",
    "version": 3
   },
   "file_extension": ".py",
   "mimetype": "text/x-python",
   "name": "python",
   "nbconvert_exporter": "python",
   "pygments_lexer": "ipython3",
   "version": "3.11.4"
  }
 },
 "nbformat": 4,
 "nbformat_minor": 2
}
