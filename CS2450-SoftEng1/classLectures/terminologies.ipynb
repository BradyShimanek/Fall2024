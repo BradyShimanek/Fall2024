{
 "cells": [
  {
   "cell_type": "markdown",
   "metadata": {},
   "source": [
    "# <span style=\"color:#4831D4;\"> Software Engineering Terminologies </h1>\n",
    "\n",
    "This notebook provides an overview of key terminologies you will encounter in the field of Software Engineering. Understanding these terms is essential for successfully managing and participating in software development projects."
   ]
  },
  {
   "cell_type": "markdown",
   "metadata": {},
   "source": [
    "## <span style=\"color:#00539C;\"> Sprint\n",
    "\n",
    "A **Sprint** is a time-boxed period during which a specific set of tasks or goals must be completed and made ready for review. Sprints are a key component of the Agile methodology, particularly in **Scrum**.\n",
    "\n",
    "- **Duration**: Typically 1 to 4 weeks.\n",
    "- **Goal**: Deliver a potentially shippable product increment.\n",
    "- **Example**: In a software development project, a team might have a 2-week sprint to develop and test the user login feature."
   ]
  },
  {
   "cell_type": "markdown",
   "metadata": {},
   "source": [
    "## <span style=\"color:#00539C;\"> Scrum\n",
    "\n",
    "**Scrum** is an Agile framework used for managing complex software projects. It provides a structured process for teams to work collaboratively, delivering software in iterative cycles called sprints.\n",
    "\n",
    "- **Key Roles**:\n",
    "  - **Product Owner**: Defines the product backlog and ensures the team is working on the highest priority tasks.\n",
    "  - **Scrum Master**: Facilitates the Scrum process, removing obstacles and ensuring the team adheres to Scrum practices.\n",
    "  - **Development Team**: The group of professionals who deliver the product increment.\n",
    "\n",
    "- **Key Events**:\n",
    "  - **Sprint Planning**: Define what can be delivered in the sprint and how that work will be achieved.\n",
    "  - **Daily Standup**: A short meeting where team members update on their progress and any obstacles.\n",
    "  - **Sprint Review**: The team reviews the work completed during the sprint with stakeholders.\n",
    "  - **Sprint Retrospective**: Reflect on the sprint to discuss what went well, what didn’t, and how to improve."
   ]
  },
  {
   "cell_type": "markdown",
   "metadata": {},
   "source": [
    "## <span style=\"color:#00539C;\"> Scrum Master\n",
    "\n",
    "The **Scrum Master** is a key role in the Scrum framework responsible for ensuring that the Scrum process is followed correctly.\n",
    "\n",
    "- **Responsibilities**:\n",
    "  - Facilitates Scrum events (e.g., Sprint Planning, Daily Standups).\n",
    "  - Removes impediments that might hinder the team’s progress.\n",
    "  - Acts as a coach, guiding the team to be self-organizing and effective.\n",
    "  \n",
    "- **Example**: If a team member is blocked by a technical issue, the Scrum Master steps in to find resources or solutions to resolve the problem quickly."
   ]
  },
  {
   "cell_type": "markdown",
   "metadata": {},
   "source": [
    "## <span style=\"color:#00539C;\"> Source Control\n",
    "\n",
    "**Source Control** (or version control) is the practice of tracking and managing changes to code. It allows multiple developers to work on the same project without overwriting each other's work.\n",
    "\n",
    "- **Key Concepts**:\n",
    "  - **Repository**: A central location where the codebase is stored.\n",
    "  - **Commit**: A saved change to the codebase.\n",
    "  - **Branch**: A separate line of development that diverges from the main codebase.\n",
    "\n",
    "- **Example**: A developer might create a new branch to work on a feature, commit changes to that branch, and then merge it back into the main branch once it’s complete and tested."
   ]
  },
  {
   "cell_type": "markdown",
   "metadata": {},
   "source": [
    "## <span style=\"color:#00539C;\"> Git\n",
    "\n",
    "**Git** is a widely used distributed version control system that helps teams manage code changes during software development. It tracks changes in source code and allows multiple developers to collaborate on a project.\n",
    "\n",
    "- **Key Commands**:\n",
    "  - `git init`: Initializes a new Git repository.\n",
    "  - `git clone`: Creates a copy of an existing repository.\n",
    "  - `git commit`: Saves changes to the repository.\n",
    "  - `git push`: Uploads local changes to a remote repository.\n",
    "  - `git pull`: Updates the local repository with changes from the remote repository.\n",
    "\n",
    "- **Example**: A team uses Git to manage the source code for a web application, with each developer working on different branches and using `git merge` to integrate their changes."
   ]
  },
  {
   "cell_type": "markdown",
   "metadata": {},
   "source": [
    "## <span style=\"color:#00539C;\"> Project Management\n",
    "\n",
    "**Project Management** in software engineering involves planning, executing, and overseeing a software project to ensure it meets its goals within constraints such as time, budget, and resources.\n",
    "\n",
    "- **Key Activities**:\n",
    "  - **Planning**: Defining the scope, objectives, and schedule of the project.\n",
    "  - **Execution**: Coordinating people and resources to carry out the project plan.\n",
    "  - **Monitoring**: Tracking the project’s progress and making adjustments as needed.\n",
    "  - **Closure**: Finalizing all activities and formally closing the project.\n",
    "\n",
    "- **Tools**: Common project management tools include Jira, Trello, and Microsoft Project."
   ]
  },
  {
   "cell_type": "markdown",
   "metadata": {},
   "source": [
    "## <span style=\"color:#00539C;\"> Milestone\n",
    "\n",
    "A **Milestone** is a significant point or event in a project’s timeline. Milestones are used to track progress and ensure the project is on schedule.\n",
    "\n",
    "- **Examples**:\n",
    "  - Completion of the design phase.\n",
    "  - Delivery of a prototype to the client.\n",
    "  - Final testing and release of the product.\n",
    "\n",
    "- **Importance**: Milestones help project managers and teams to assess progress and make decisions about next steps."
   ]
  },
  {
   "cell_type": "markdown",
   "metadata": {},
   "source": [
    "## <span style=\"color:#00539C;\"> Project Manager\n",
    "\n",
    "A **Project Manager** is responsible for planning, executing, and closing a project. They manage the project’s scope, schedule, budget, and resources to ensure the project meets its objectives.\n",
    "\n",
    "- **Key Responsibilities**:\n",
    "  - **Defining project scope** and setting goals.\n",
    "  - **Managing the project schedule** and ensuring deadlines are met.\n",
    "  - **Allocating resources** effectively and managing the project budget.\n",
    "  - **Communicating with stakeholders** and reporting on project progress.\n",
    "  - **Risk management**: Identifying potential risks and developing mitigation strategies.\n",
    "\n",
    "- **Example**: In a software development project, the Project Manager ensures that the team meets deadlines, stays within budget, and delivers a product that meets the client’s needs."
   ]
  },
  {
   "cell_type": "markdown",
   "metadata": {},
   "source": [
    "## <span style=\"color:#00539C;\"> Product Owner\n",
    "\n",
    "In Scrum, the **Product Owner** is responsible for maximizing the value of the product resulting from the work of the Development Team. They manage the product backlog and prioritize work based on stakeholder needs.\n",
    "\n",
    "- **Key Responsibilities**:\n",
    "  - Defining and prioritizing the product backlog.\n",
    "  - Ensuring the development team understands the product requirements.\n",
    "  - Making decisions on product features and release plans.\n",
    "  \n",
    "- **Example**: The Product Owner for a mobile app development project might prioritize features based on user feedback and market research, ensuring the most valuable features are developed first."
   ]
  },
  {
   "cell_type": "markdown",
   "metadata": {},
   "source": [
    "## <span style=\"color:#00539C;\"> User Stories\n",
    "\n",
    "**User Stories** are simple descriptions of a software feature from the perspective of the end user. They are used in Agile development to capture requirements and guide development.\n",
    "\n",
    "- **Structure**: Typically written as \"As a [type of user], I want [some goal] so that [some reason].\"\n",
    "- **Example**: \"As a user, I want to reset my password so that I can regain access to my account if I forget it.\"\n",
    "\n",
    "- **Importance**: User stories help teams focus on delivering value to the user and ensure that features are aligned with user needs."
   ]
  },
  {
   "cell_type": "markdown",
   "metadata": {},
   "source": [
    "## <span style=\"color:#00539C;\"> Product Backlog\n",
    "\n",
    "The **Product Backlog** is a prioritized list of tasks and features that need to be completed in a project. It is managed by the Product Owner and is continually updated based on feedback and changes in project scope.\n",
    "\n",
    "- **Components**:\n",
    "  - **User Stories**: High-level descriptions of features or tasks.\n",
    "  - **Bugs**: Issues that need to be fixed.\n",
    "  - **Technical Work**: Tasks needed to improve the codebase or infrastructure.\n",
    "\n",
    "- **Example**: The product backlog for a new e-commerce website might include user stories for account creation, product browsing, and checkout functionality, as well as technical tasks for setting up the database and servers."
   ]
  },
  {
   "cell_type": "markdown",
   "metadata": {},
   "source": [
    "## <span style=\"color:#00539C;\"> Continuous Integration (CI)\n",
    "\n",
    "**Continuous Integration (CI)** is a practice in software engineering where developers frequently integrate their code into a shared repository. Automated tests are run on each integration to catch issues early.\n",
    "\n",
    "- **Key Benefits**:\n",
    "  - Reduces integration issues.\n",
    "  - Encourages frequent code commits.\n",
    "  - Ensures that the software is always in a deployable state.\n",
    "\n",
    "- **Example**: A development team uses CI tools like Jenkins or Travis CI to automatically test and build their software whenever new code is pushed to the repository."
   ]
  },
  {
   "cell_type": "markdown",
   "metadata": {},
   "source": [
    "## <span style=\"color:#00539C;\"> Minimum Viable Product (MVP)\n",
    "\n",
    "A **Minimum Viable Product (MVP)** is the simplest version of a product that can be released to users. It includes only the essential features needed to solve the user’s problem and allows the team to gather feedback for future development.\n",
    "\n",
    "- **Example**: A startup might release an MVP of a mobile app that only includes the core functionality, such as user registration and basic content browsing, to validate the idea before investing in full development."
   ]
  },
  {
   "cell_type": "markdown",
   "metadata": {},
   "source": [
    "## <span style=\"color:#00539C;\"> Burn Down Chart\n",
    "\n",
    "A **Burn Down Chart** is a visual representation of the work remaining in a project, typically used in Agile methodologies like Scrum. It shows the progress of a sprint or project over time, helping teams track whether they are on schedule.\n",
    "\n",
    "- **Components**:\n",
    "  - **X-Axis**: Time (days or weeks).\n",
    "  - **Y-Axis**: Remaining work (tasks, hours, story points).\n",
    "  \n",
    "- **Example**: A Scrum team uses a burn down chart to track progress during a sprint, with the goal of having the line reach zero by the end of the sprint."
   ]
  },
  {
   "cell_type": "markdown",
   "metadata": {},
   "source": [
    "## <span style=\"color:#00539C;\"> Retrospective\n",
    "\n",
    "A **Retrospective** is a meeting held at the end of a sprint or project where the team reflects on what went well, what didn’t, and how processes can be improved.\n",
    "\n",
    "- **Purpose**: To continuously improve the team’s processes and work quality.\n",
    "- **Structure**:\n",
    "  - **What went well?**\n",
    "  - **What didn’t go well?**\n",
    "  - **What can we improve?**"
   ]
  }
 ],
 "metadata": {
  "language_info": {
   "name": "python"
  }
 },
 "nbformat": 4,
 "nbformat_minor": 2
}
